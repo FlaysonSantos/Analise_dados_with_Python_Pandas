{
  "nbformat": 4,
  "nbformat_minor": 0,
  "metadata": {
    "colab": {
      "provenance": []
    },
    "kernelspec": {
      "name": "python3",
      "display_name": "Python 3"
    },
    "language_info": {
      "name": "python"
    }
  },
  "cells": [
    {
      "cell_type": "markdown",
      "source": [
        "# Cientista de dados Flayson Santos\n",
        "[Github](https://github.com/FlaysonSantos) | [linkedin](https://www.linkedin.com/in/flayson-santos/)\n"
      ],
      "metadata": {
        "id": "YqtB-5onbkmX"
      }
    },
    {
      "cell_type": "markdown",
      "source": [
        "Rode essa aplicação no seu computador em um ambiente de teste"
      ],
      "metadata": {
        "id": "LqgGB9nWhfzc"
      }
    },
    {
      "cell_type": "markdown",
      "source": [
        "###Instale biblioteca flask no Colab"
      ],
      "metadata": {
        "id": "Mfaw76pmcKzU"
      }
    },
    {
      "cell_type": "code",
      "execution_count": null,
      "metadata": {
        "id": "vkJ85N3abf-K"
      },
      "outputs": [],
      "source": [
        "!pip install flask"
      ]
    },
    {
      "cell_type": "markdown",
      "source": [
        "###Importando as Bibliotecas"
      ],
      "metadata": {
        "id": "dCl-j-kFdNzX"
      }
    },
    {
      "cell_type": "code",
      "source": [
        "from flask import *\n",
        "\n",
        "import pandas as pd"
      ],
      "metadata": {
        "id": "M-i2nKMgcKUx"
      },
      "execution_count": null,
      "outputs": []
    },
    {
      "cell_type": "markdown",
      "source": [
        "Criando a inicialização do flask"
      ],
      "metadata": {
        "id": "JQYP8Md9df9C"
      }
    },
    {
      "cell_type": "code",
      "source": [
        "app = Flask(__name__)"
      ],
      "metadata": {
        "id": "PW1gVJW_dqkO"
      },
      "execution_count": null,
      "outputs": []
    },
    {
      "cell_type": "markdown",
      "source": [
        "###Criando o dataset em json salvando na variavel \"d\""
      ],
      "metadata": {
        "id": "3goPP6kwdtjR"
      }
    },
    {
      "cell_type": "code",
      "source": [
        "d = {\n",
        "    \"Numero\":1,\n",
        "    \"Name\":\"Mahesh\",\n",
        "    \"Age\":\"25\",\n",
        "    \"City\":\"Bangalore\",\n",
        "    \"Country\":\"India\"\n",
        "  },{\n",
        "    \"Numero\":2,\n",
        "    \"Name\":\"Alex\",\n",
        "    \"Age\":\"26\",\n",
        "    \"City\":\"London\",\n",
        "    \"Country\":\"UK\"\n",
        "  },{\n",
        "    \"Numero\":3,\n",
        "    \"Name\":\"David\",\n",
        "    \"Age\":\"27\",\n",
        "    \"City\":\"Sao Francisco\",\n",
        "    \"Country\":\"USA\"\n",
        "  },{\n",
        "    \"Numero\":4,\n",
        "    \"Name\":\"John\",\n",
        "    \"Age\":\"28\",\n",
        "    \"City\":\"Toronto\",\n",
        "    \"Country\":\"Canada\"\n",
        "  },{\n",
        "    \"Numero\":5,\n",
        "    \"Name\":\"Chris\",\n",
        "    \"Age\":\"29\",\n",
        "    \"City\":\"Paris\",\n",
        "    \"Country\":\"France\"\n",
        "    }"
      ],
      "metadata": {
        "id": "kIDnWh5vdzWL"
      },
      "execution_count": null,
      "outputs": []
    },
    {
      "cell_type": "markdown",
      "source": [
        "###Convertendo json em um DataFrame\n"
      ],
      "metadata": {
        "id": "tn6-bobheF9v"
      }
    },
    {
      "cell_type": "code",
      "source": [
        "df = pd.DataFrame(d)#Convertendo json em um DataFrame\n",
        "\n",
        "print (df)"
      ],
      "metadata": {
        "id": "KfnM3vNseNSw"
      },
      "execution_count": null,
      "outputs": []
    },
    {
      "cell_type": "markdown",
      "source": [
        "### Criando a rota de inico do flask, Criando arquivo no formato \"csv\" salvando e retornando a lista do dados salvos em \"d\" "
      ],
      "metadata": {
        "id": "Hv5zg_rsd_kg"
      }
    },
    {
      "cell_type": "code",
      "source": [
        "@app.route(\"/\")\n",
        "def inicio():\n",
        "\n",
        "    df.to_csv(\"dados.csv\", index = False, sep =';')#Criando arquivo no formato \"csv\" e salvando\n",
        "    return jsonify(d)#Retorna a lista do dados salvos em \"d\"\n",
        "\n"
      ],
      "metadata": {
        "id": "yNzJfT31enEH"
      },
      "execution_count": null,
      "outputs": []
    },
    {
      "cell_type": "markdown",
      "source": [
        "### Rodando o app flask "
      ],
      "metadata": {
        "id": "6HfOftk9fEpJ"
      }
    },
    {
      "cell_type": "code",
      "source": [
        "if __name__ == \"__main__\":\n",
        "\n",
        "    app.run(debug=True)"
      ],
      "metadata": {
        "id": "VxhqD3u6fKJR"
      },
      "execution_count": null,
      "outputs": []
    },
    {
      "cell_type": "markdown",
      "source": [
        "# [Github](https://github.com/FlaysonSantos) | [linkedin](https://www.linkedin.com/in/flayson-santos/)\n"
      ],
      "metadata": {
        "id": "9msvusRDfQt2"
      }
    }
  ]
}